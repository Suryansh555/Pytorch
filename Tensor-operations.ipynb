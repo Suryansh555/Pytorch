{
 "cells": [
  {
   "cell_type": "markdown",
   "metadata": {
    "id": "z_TCCZLA9lFk"
   },
   "source": [
    "#Pytorch For Maths \n",
    "\n",
    "PyTorch is an open source machine learning library based on the Torch library, used for applications such as computer vision and natural language processing . Deep learning Applications can take place in pytorch also . Functions that i chosen are Mathematical Functions , One would ask why would we use Pytorch for these functions , why not Numpy when these functions exist in Numpy module which is better for numerical calculations . Pytorch uses GPU for processing its computations , Numpy doesn't which gives Pytorch edge for larger inputs.\n",
    "\n",
    "- torch.arange()\n",
    "- torch.bitwise_xor()\n",
    "- torch.sqrt()\n",
    "- torch.unique()\n",
    "- torch.gcd()\n",
    "\n",
    "Before we begin, let's install and import PyTorch"
   ]
  },
  {
   "cell_type": "code",
   "execution_count": 3,
   "metadata": {
    "executionInfo": {
     "elapsed": 7044,
     "status": "ok",
     "timestamp": 1606718963747,
     "user": {
      "displayName": "Suryansh Shrivastava",
      "photoUrl": "https://lh3.googleusercontent.com/a-/AOh14Gg3hq9GsChK0zLG_i2fzeIRkXMOdROLtGxAhmPBow=s64",
      "userId": "00272612064480380787"
     },
     "user_tz": -330
    },
    "id": "z1wCKIt_9lFk"
   },
   "outputs": [],
   "source": [
    "# Uncomment and run the appropriate command for your operating system, if required\n",
    "\n",
    "# Linux / Binder\n",
    "# !pip install numpy torch==1.7.0+cpu torchvision==0.8.1+cpu torchaudio==0.7.0 -f https://download.pytorch.org/whl/torch_stable.html\n",
    "\n",
    "# Windows\n",
    "# !pip install numpy torch==1.7.0+cpu torchvision==0.8.1+cpu torchaudio==0.7.0 -f https://download.pytorch.org/whl/torch_stable.html\n",
    "\n",
    "# MacOS\n",
    "# !pip install numpy torch torchvision torchaudio"
   ]
  },
  {
   "cell_type": "code",
   "execution_count": 4,
   "metadata": {
    "executionInfo": {
     "elapsed": 9586,
     "status": "ok",
     "timestamp": 1606718966426,
     "user": {
      "displayName": "Suryansh Shrivastava",
      "photoUrl": "https://lh3.googleusercontent.com/a-/AOh14Gg3hq9GsChK0zLG_i2fzeIRkXMOdROLtGxAhmPBow=s64",
      "userId": "00272612064480380787"
     },
     "user_tz": -330
    },
    "id": "4SBX6JxB9lFk"
   },
   "outputs": [],
   "source": [
    "# Import torch and other required modules\n",
    "import torch"
   ]
  },
  {
   "cell_type": "markdown",
   "metadata": {
    "id": "2NRj5xYA9lFk"
   },
   "source": [
    "## Function 1 - torch.arange()\n",
    "\n",
    "Returns a 1-D tensor with values from the interval [start, end) taken with common difference step beginning from start.\n",
    "\n",
    "**Parameters**\n",
    "\n",
    "**`start (Number)`** – the starting value for the set of points. Default: 0.\n",
    "\n",
    "**`end (Number)`** – the ending value for the set of points\n",
    "\n",
    "**`step (Number)`** – the gap between each pair of adjacent points. Default: 1."
   ]
  },
  {
   "cell_type": "code",
   "execution_count": 5,
   "metadata": {
    "colab": {
     "base_uri": "https://localhost:8080/"
    },
    "executionInfo": {
     "elapsed": 7886,
     "status": "ok",
     "timestamp": 1606718966444,
     "user": {
      "displayName": "Suryansh Shrivastava",
      "photoUrl": "https://lh3.googleusercontent.com/a-/AOh14Gg3hq9GsChK0zLG_i2fzeIRkXMOdROLtGxAhmPBow=s64",
      "userId": "00272612064480380787"
     },
     "user_tz": -330
    },
    "id": "HwHnDs0E9lFk",
    "outputId": "6e741d69-c182-4fe7-aeb0-d17ca56d11c1"
   },
   "outputs": [
    {
     "data": {
      "text/plain": [
       "tensor([5, 6, 7, 8, 9])"
      ]
     },
     "execution_count": 5,
     "metadata": {
      "tags": []
     },
     "output_type": "execute_result"
    }
   ],
   "source": [
    "# Example 1 - working \n",
    "torch.arange(5,10,1)"
   ]
  },
  {
   "cell_type": "markdown",
   "metadata": {
    "id": "AuZzEx7S9lFl"
   },
   "source": [
    "Start is mentioned as 5 and end as 10 , step is 1 so 5 valued tensor will be created starting from 5 to 9 (10 is not uncluded)"
   ]
  },
  {
   "cell_type": "code",
   "execution_count": 6,
   "metadata": {
    "colab": {
     "base_uri": "https://localhost:8080/"
    },
    "executionInfo": {
     "elapsed": 7005,
     "status": "ok",
     "timestamp": 1606718966447,
     "user": {
      "displayName": "Suryansh Shrivastava",
      "photoUrl": "https://lh3.googleusercontent.com/a-/AOh14Gg3hq9GsChK0zLG_i2fzeIRkXMOdROLtGxAhmPBow=s64",
      "userId": "00272612064480380787"
     },
     "user_tz": -330
    },
    "id": "FaONxcfv9lFl",
    "outputId": "b75adb56-88dc-4eea-c40c-30f6fe4c2404"
   },
   "outputs": [
    {
     "data": {
      "text/plain": [
       "tensor([ 5.5000, 10.5000, 15.5000, 20.5000, 25.5000, 30.5000, 35.5000, 40.5000,\n",
       "        45.5000, 50.5000, 55.5000, 60.5000, 65.5000, 70.5000, 75.5000, 80.5000,\n",
       "        85.5000, 90.5000, 95.5000])"
      ]
     },
     "execution_count": 6,
     "metadata": {
      "tags": []
     },
     "output_type": "execute_result"
    }
   ],
   "source": [
    "# Example 2 - working\n",
    "torch.arange(5.5,100,5)"
   ]
  },
  {
   "cell_type": "markdown",
   "metadata": {
    "id": "fGmENo5T9lFl"
   },
   "source": [
    "Tensor Created will multiple values each at step 5 "
   ]
  },
  {
   "cell_type": "code",
   "execution_count": 7,
   "metadata": {
    "colab": {
     "base_uri": "https://localhost:8080/",
     "height": 178
    },
    "executionInfo": {
     "elapsed": 6301,
     "status": "error",
     "timestamp": 1606718966470,
     "user": {
      "displayName": "Suryansh Shrivastava",
      "photoUrl": "https://lh3.googleusercontent.com/a-/AOh14Gg3hq9GsChK0zLG_i2fzeIRkXMOdROLtGxAhmPBow=s64",
      "userId": "00272612064480380787"
     },
     "user_tz": -330
    },
    "id": "mwiSySRi9lFl",
    "outputId": "006969fe-cdb5-4e43-a0af-d5993b4fc935"
   },
   "outputs": [
    {
     "ename": "RuntimeError",
     "evalue": "ignored",
     "output_type": "error",
     "traceback": [
      "\u001b[0;31m---------------------------------------------------------------------------\u001b[0m",
      "\u001b[0;31mRuntimeError\u001b[0m                              Traceback (most recent call last)",
      "\u001b[0;32m<ipython-input-7-66c4e328f54c>\u001b[0m in \u001b[0;36m<module>\u001b[0;34m()\u001b[0m\n\u001b[1;32m      1\u001b[0m \u001b[0;31m# Example 3 - breaking (to illustrate when it breaks)\u001b[0m\u001b[0;34m\u001b[0m\u001b[0;34m\u001b[0m\u001b[0;34m\u001b[0m\u001b[0m\n\u001b[0;32m----> 2\u001b[0;31m \u001b[0mtorch\u001b[0m\u001b[0;34m.\u001b[0m\u001b[0marange\u001b[0m\u001b[0;34m(\u001b[0m\u001b[0;36m5\u001b[0m\u001b[0;34m,\u001b[0m\u001b[0;36m1\u001b[0m\u001b[0;34m,\u001b[0m\u001b[0;36m1\u001b[0m\u001b[0;34m)\u001b[0m\u001b[0;34m\u001b[0m\u001b[0;34m\u001b[0m\u001b[0m\n\u001b[0m",
      "\u001b[0;31mRuntimeError\u001b[0m: upper bound and larger bound inconsistent with step sign"
     ]
    }
   ],
   "source": [
    "# Example 3 - breaking (to illustrate when it breaks)\n",
    "torch.arange(5,1,1)"
   ]
  },
  {
   "cell_type": "markdown",
   "metadata": {
    "id": "DEFVZjvC9lFl"
   },
   "source": [
    "Reason for Runtime Error - Start is smaller then end "
   ]
  },
  {
   "cell_type": "markdown",
   "metadata": {
    "id": "tgERlBAW9lFl"
   },
   "source": [
    "This function is used to get a torch which is equaly spaced between two number"
   ]
  },
  {
   "cell_type": "markdown",
   "metadata": {
    "id": "AEwhTxPW9lFl"
   },
   "source": [
    "Let's save our work using Jovian before continuing."
   ]
  },
  {
   "cell_type": "code",
   "execution_count": 8,
   "metadata": {
    "executionInfo": {
     "elapsed": 4076,
     "status": "ok",
     "timestamp": 1606718977427,
     "user": {
      "displayName": "Suryansh Shrivastava",
      "photoUrl": "https://lh3.googleusercontent.com/a-/AOh14Gg3hq9GsChK0zLG_i2fzeIRkXMOdROLtGxAhmPBow=s64",
      "userId": "00272612064480380787"
     },
     "user_tz": -330
    },
    "id": "K_cJr4fr9lFl"
   },
   "outputs": [],
   "source": [
    "!pip install jovian --upgrade --quiet"
   ]
  },
  {
   "cell_type": "code",
   "execution_count": 9,
   "metadata": {
    "executionInfo": {
     "elapsed": 3750,
     "status": "ok",
     "timestamp": 1606718977429,
     "user": {
      "displayName": "Suryansh Shrivastava",
      "photoUrl": "https://lh3.googleusercontent.com/a-/AOh14Gg3hq9GsChK0zLG_i2fzeIRkXMOdROLtGxAhmPBow=s64",
      "userId": "00272612064480380787"
     },
     "user_tz": -330
    },
    "id": "ZFR2zRtA9lFl"
   },
   "outputs": [],
   "source": [
    "import jovian"
   ]
  },
  {
   "cell_type": "code",
   "execution_count": 10,
   "metadata": {
    "colab": {
     "base_uri": "https://localhost:8080/",
     "height": 136
    },
    "executionInfo": {
     "elapsed": 11307,
     "status": "ok",
     "timestamp": 1606718985257,
     "user": {
      "displayName": "Suryansh Shrivastava",
      "photoUrl": "https://lh3.googleusercontent.com/a-/AOh14Gg3hq9GsChK0zLG_i2fzeIRkXMOdROLtGxAhmPBow=s64",
      "userId": "00272612064480380787"
     },
     "user_tz": -330
    },
    "id": "8patgcju9lFl",
    "outputId": "bb1b8697-cde7-4bb6-fa3e-af596fbc5306"
   },
   "outputs": [
    {
     "name": "stdout",
     "output_type": "stream",
     "text": [
      "[jovian] Detected Colab notebook...\u001b[0m\n",
      "[jovian] Please enter your API key ( from https://jovian.ai/ ):\u001b[0m\n",
      "API KEY: ··········\n",
      "[jovian] Uploading colab notebook to Jovian...\u001b[0m\n",
      "[jovian] Capturing environment..\u001b[0m\n",
      "[jovian] Committed successfully! https://jovian.ai/suryansh-may/01-tensor-operations\u001b[0m\n"
     ]
    },
    {
     "data": {
      "application/vnd.google.colaboratory.intrinsic+json": {
       "type": "string"
      },
      "text/plain": [
       "'https://jovian.ai/suryansh-may/01-tensor-operations'"
      ]
     },
     "execution_count": 10,
     "metadata": {
      "tags": []
     },
     "output_type": "execute_result"
    }
   ],
   "source": [
    "jovian.commit(project='01-tensor-operations')"
   ]
  },
  {
   "cell_type": "markdown",
   "metadata": {
    "id": "AFTW0ccz9lFl"
   },
   "source": [
    "## Function 2 - torch.bitwise_xor()\n",
    "\n",
    "XOR is an operation which takes place in the bitwise level . if there is different type of bit , then it will result in 1 otherwise result in 0.\n"
   ]
  },
  {
   "cell_type": "code",
   "execution_count": 11,
   "metadata": {
    "colab": {
     "base_uri": "https://localhost:8080/"
    },
    "executionInfo": {
     "elapsed": 789,
     "status": "ok",
     "timestamp": 1606718986579,
     "user": {
      "displayName": "Suryansh Shrivastava",
      "photoUrl": "https://lh3.googleusercontent.com/a-/AOh14Gg3hq9GsChK0zLG_i2fzeIRkXMOdROLtGxAhmPBow=s64",
      "userId": "00272612064480380787"
     },
     "user_tz": -330
    },
    "id": "tXes5yf89lFl",
    "outputId": "875b2d76-1ac2-48eb-fa12-a87873d6fd3a"
   },
   "outputs": [
    {
     "data": {
      "text/plain": [
       "tensor([-2, -2,  0], dtype=torch.int8)"
      ]
     },
     "execution_count": 11,
     "metadata": {
      "tags": []
     },
     "output_type": "execute_result"
    }
   ],
   "source": [
    "# Example 1 - working\n",
    "torch.bitwise_xor(torch.tensor([-1, -2, 3], dtype=torch.int8), torch.tensor([1, 0, 3], dtype=torch.int8))"
   ]
  },
  {
   "cell_type": "markdown",
   "metadata": {
    "id": "1a_NzMs99lFl"
   },
   "source": [
    "When -1 and 1 are converted in binary and theirr XOR is done , it results in 00010 which is 2 in decimal"
   ]
  },
  {
   "cell_type": "code",
   "execution_count": 12,
   "metadata": {
    "colab": {
     "base_uri": "https://localhost:8080/"
    },
    "executionInfo": {
     "elapsed": 1287,
     "status": "ok",
     "timestamp": 1606718987825,
     "user": {
      "displayName": "Suryansh Shrivastava",
      "photoUrl": "https://lh3.googleusercontent.com/a-/AOh14Gg3hq9GsChK0zLG_i2fzeIRkXMOdROLtGxAhmPBow=s64",
      "userId": "00272612064480380787"
     },
     "user_tz": -330
    },
    "id": "chg_cUte9lFl",
    "outputId": "865fc2e1-25fb-4c75-ae93-f3ffe7b77b0f"
   },
   "outputs": [
    {
     "data": {
      "text/plain": [
       "tensor([ True,  True, False])"
      ]
     },
     "execution_count": 12,
     "metadata": {
      "tags": []
     },
     "output_type": "execute_result"
    }
   ],
   "source": [
    "# Example 2 - working\n",
    "torch.bitwise_xor(torch.tensor([False,True,True]), torch.tensor([True,False,True]))"
   ]
  },
  {
   "cell_type": "markdown",
   "metadata": {
    "id": "z05xQsVb9lFl"
   },
   "source": [
    "True And False give True and others False"
   ]
  },
  {
   "cell_type": "code",
   "execution_count": 13,
   "metadata": {
    "colab": {
     "base_uri": "https://localhost:8080/",
     "height": 162
    },
    "executionInfo": {
     "elapsed": 976,
     "status": "error",
     "timestamp": 1606718988286,
     "user": {
      "displayName": "Suryansh Shrivastava",
      "photoUrl": "https://lh3.googleusercontent.com/a-/AOh14Gg3hq9GsChK0zLG_i2fzeIRkXMOdROLtGxAhmPBow=s64",
      "userId": "00272612064480380787"
     },
     "user_tz": -330
    },
    "id": "Zdksu3ud9lFl",
    "outputId": "8da10d5c-190f-4136-deab-d3e988f9ac15"
   },
   "outputs": [
    {
     "ename": "RuntimeError",
     "evalue": "ignored",
     "output_type": "error",
     "traceback": [
      "\u001b[0;31m---------------------------------------------------------------------------\u001b[0m",
      "\u001b[0;31mRuntimeError\u001b[0m                              Traceback (most recent call last)",
      "\u001b[0;32m<ipython-input-13-0b727c47cdc0>\u001b[0m in \u001b[0;36m<module>\u001b[0;34m()\u001b[0m\n\u001b[0;32m----> 1\u001b[0;31m \u001b[0mtorch\u001b[0m\u001b[0;34m.\u001b[0m\u001b[0mbitwise_xor\u001b[0m\u001b[0;34m(\u001b[0m\u001b[0mtorch\u001b[0m\u001b[0;34m.\u001b[0m\u001b[0mtensor\u001b[0m\u001b[0;34m(\u001b[0m\u001b[0;34m[\u001b[0m\u001b[0;32mTrue\u001b[0m\u001b[0;34m,\u001b[0m \u001b[0;32mTrue\u001b[0m\u001b[0;34m,\u001b[0m \u001b[0;32mFalse\u001b[0m\u001b[0;34m]\u001b[0m\u001b[0;34m)\u001b[0m\u001b[0;34m,\u001b[0m \u001b[0mtorch\u001b[0m\u001b[0;34m.\u001b[0m\u001b[0mtensor\u001b[0m\u001b[0;34m(\u001b[0m\u001b[0;34m[\u001b[0m\u001b[0;36m2\u001b[0m\u001b[0;34m,\u001b[0m \u001b[0;32mTrue\u001b[0m\u001b[0;34m,\u001b[0m \u001b[0;32mFalse\u001b[0m\u001b[0;34m]\u001b[0m\u001b[0;34m)\u001b[0m\u001b[0;34m)\u001b[0m\u001b[0;34m\u001b[0m\u001b[0;34m\u001b[0m\u001b[0m\n\u001b[0m",
      "\u001b[0;31mRuntimeError\u001b[0m: result type Long can't be cast to the desired output type Bool"
     ]
    }
   ],
   "source": [
    "torch.bitwise_xor(torch.tensor([True, True, False]), torch.tensor([2, True, False]))"
   ]
  },
  {
   "cell_type": "markdown",
   "metadata": {
    "id": "1wq5fPJf9lFl"
   },
   "source": [
    "Runtime Error - XOR operation can not take place between booleans and intergers"
   ]
  },
  {
   "cell_type": "markdown",
   "metadata": {
    "id": "cdjiDcgn9lFl"
   },
   "source": [
    "XOR is useful as it tells about distinct bits in the binary position of both the operands"
   ]
  },
  {
   "cell_type": "code",
   "execution_count": null,
   "metadata": {
    "id": "xI_5vy7l9lFl",
    "outputId": "2174de29-ad69-4667-91fe-bf918cd7461a"
   },
   "outputs": [
    {
     "data": {
      "application/javascript": [
       "window.require && require([\"base/js/namespace\"],function(Jupyter){Jupyter.notebook.save_checkpoint()})"
      ],
      "text/plain": [
       "<IPython.core.display.Javascript object>"
      ]
     },
     "metadata": {
      "tags": []
     },
     "output_type": "display_data"
    },
    {
     "name": "stdout",
     "output_type": "stream",
     "text": [
      "[jovian] Attempting to save notebook..\u001b[0m\n",
      "[jovian] Updating notebook \"aakashns/01-tensor-operations\" on https://jovian.ai/\u001b[0m\n",
      "[jovian] Uploading notebook..\u001b[0m\n",
      "[jovian] Capturing environment..\u001b[0m\n",
      "[jovian] Committed successfully! https://jovian.ai/aakashns/01-tensor-operations\u001b[0m\n"
     ]
    },
    {
     "data": {
      "text/plain": [
       "'https://jovian.ai/aakashns/01-tensor-operations'"
      ]
     },
     "execution_count": 16,
     "metadata": {
      "tags": []
     },
     "output_type": "execute_result"
    }
   ],
   "source": [
    "jovian.commit(project='01-tensor-operations')"
   ]
  },
  {
   "cell_type": "markdown",
   "metadata": {
    "id": "1NYU1HQc9lFl"
   },
   "source": [
    "## Function 3 - torch.unique()\n",
    "\n",
    "Returns the unique elements of the input tensor."
   ]
  },
  {
   "cell_type": "code",
   "execution_count": 15,
   "metadata": {
    "colab": {
     "base_uri": "https://localhost:8080/"
    },
    "executionInfo": {
     "elapsed": 1396,
     "status": "ok",
     "timestamp": 1606719264340,
     "user": {
      "displayName": "Suryansh Shrivastava",
      "photoUrl": "https://lh3.googleusercontent.com/a-/AOh14Gg3hq9GsChK0zLG_i2fzeIRkXMOdROLtGxAhmPBow=s64",
      "userId": "00272612064480380787"
     },
     "user_tz": -330
    },
    "id": "50-AMeOY9lFl",
    "outputId": "7ec17207-725d-41af-b9ed-96c463449f04"
   },
   "outputs": [
    {
     "data": {
      "text/plain": [
       "tensor([1, 2, 3])"
      ]
     },
     "execution_count": 15,
     "metadata": {
      "tags": []
     },
     "output_type": "execute_result"
    }
   ],
   "source": [
    "# Example 1 - working\n",
    "torch.unique(torch.tensor([1, 3, 2, 3], dtype=torch.long))"
   ]
  },
  {
   "cell_type": "markdown",
   "metadata": {
    "id": "TG_vqo0e9lFl"
   },
   "source": [
    "3 exists two times therefore only one is returned "
   ]
  },
  {
   "cell_type": "code",
   "execution_count": 21,
   "metadata": {
    "colab": {
     "base_uri": "https://localhost:8080/"
    },
    "executionInfo": {
     "elapsed": 1041,
     "status": "ok",
     "timestamp": 1606719419272,
     "user": {
      "displayName": "Suryansh Shrivastava",
      "photoUrl": "https://lh3.googleusercontent.com/a-/AOh14Gg3hq9GsChK0zLG_i2fzeIRkXMOdROLtGxAhmPBow=s64",
      "userId": "00272612064480380787"
     },
     "user_tz": -330
    },
    "id": "KVdgROQM9lFl",
    "outputId": "2d590f66-a640-455b-e4e8-a7f1c68621ef"
   },
   "outputs": [
    {
     "data": {
      "text/plain": [
       "tensor([1, 2, 3, 4, 5, 7, 8, 9])"
      ]
     },
     "execution_count": 21,
     "metadata": {
      "tags": []
     },
     "output_type": "execute_result"
    }
   ],
   "source": [
    "# Example 2 - working\n",
    "torch.unique(torch.tensor([1,5,2,1,5,7,4,8,2,1,5,8,9,5,1,2,3], dtype=torch.long), sorted=True )"
   ]
  },
  {
   "cell_type": "markdown",
   "metadata": {
    "id": "Xr81Prk79lFl"
   },
   "source": [
    "Unique Elements and Sorted tensor is returned"
   ]
  },
  {
   "cell_type": "code",
   "execution_count": 44,
   "metadata": {
    "colab": {
     "base_uri": "https://localhost:8080/",
     "height": 195
    },
    "executionInfo": {
     "elapsed": 1530,
     "status": "error",
     "timestamp": 1606720528286,
     "user": {
      "displayName": "Suryansh Shrivastava",
      "photoUrl": "https://lh3.googleusercontent.com/a-/AOh14Gg3hq9GsChK0zLG_i2fzeIRkXMOdROLtGxAhmPBow=s64",
      "userId": "00272612064480380787"
     },
     "user_tz": -330
    },
    "id": "_hrsKBzJ9lFm",
    "outputId": "3458046f-7891-42bf-f8d6-c153d985fa59"
   },
   "outputs": [
    {
     "ename": "ValueError",
     "evalue": "ignored",
     "output_type": "error",
     "traceback": [
      "\u001b[0;31m---------------------------------------------------------------------------\u001b[0m",
      "\u001b[0;31mValueError\u001b[0m                                Traceback (most recent call last)",
      "\u001b[0;32m<ipython-input-44-bd7ee3c664c3>\u001b[0m in \u001b[0;36m<module>\u001b[0;34m()\u001b[0m\n\u001b[1;32m      5\u001b[0m        [[ 2.,  6.,  6.,  6.],\n\u001b[1;32m      6\u001b[0m         \u001b[0;34m[\u001b[0m \u001b[0;36m7.\u001b[0m\u001b[0;34m,\u001b[0m  \u001b[0;36m1.\u001b[0m\u001b[0;34m,\u001b[0m  \u001b[0;36m23.\u001b[0m\u001b[0;34m,\u001b[0m  \u001b[0;36m4.\u001b[0m \u001b[0;34m,\u001b[0m\u001b[0;36m5.\u001b[0m\u001b[0;34m]\u001b[0m\u001b[0;34m,\u001b[0m\u001b[0;34m\u001b[0m\u001b[0;34m\u001b[0m\u001b[0m\n\u001b[0;32m----> 7\u001b[0;31m         [ 9.,  10.,  4.,  8.]]]))\n\u001b[0m",
      "\u001b[0;31mValueError\u001b[0m: expected sequence of length 4 at dim 2 (got 5)"
     ]
    }
   ],
   "source": [
    "torch.unique(torch.tensor([[[ 6.,  2.,  5.,  3.],\n",
    "        [ 4.,  1.,  9.,  8.],\n",
    "        [ 6.,  5.,  4.,  7.]],\n",
    "\n",
    "       [[ 2.,  6.,  6.,  6.],\n",
    "        [ 7.,  1.,  23.,  4. ,5.],\n",
    "        [ 9.,  10.,  4.,  8.]]]))"
   ]
  },
  {
   "cell_type": "markdown",
   "metadata": {
    "id": "SeFqLRhv9lFm"
   },
   "source": [
    "lenght needs to be same"
   ]
  },
  {
   "cell_type": "markdown",
   "metadata": {
    "id": "JVLr15w_9lFm"
   },
   "source": [
    "To return only Unique elements in tensor removing copy of the same element "
   ]
  },
  {
   "cell_type": "code",
   "execution_count": 45,
   "metadata": {
    "colab": {
     "base_uri": "https://localhost:8080/",
     "height": 102
    },
    "executionInfo": {
     "elapsed": 5148,
     "status": "ok",
     "timestamp": 1606720603755,
     "user": {
      "displayName": "Suryansh Shrivastava",
      "photoUrl": "https://lh3.googleusercontent.com/a-/AOh14Gg3hq9GsChK0zLG_i2fzeIRkXMOdROLtGxAhmPBow=s64",
      "userId": "00272612064480380787"
     },
     "user_tz": -330
    },
    "id": "5W-D4da39lFm",
    "outputId": "4c1878ce-1376-45b0-d128-2034be1a3f71"
   },
   "outputs": [
    {
     "name": "stdout",
     "output_type": "stream",
     "text": [
      "[jovian] Detected Colab notebook...\u001b[0m\n",
      "[jovian] Uploading colab notebook to Jovian...\u001b[0m\n",
      "[jovian] Capturing environment..\u001b[0m\n",
      "[jovian] Committed successfully! https://jovian.ai/suryansh-may/01-tensor-operations\u001b[0m\n"
     ]
    },
    {
     "data": {
      "application/vnd.google.colaboratory.intrinsic+json": {
       "type": "string"
      },
      "text/plain": [
       "'https://jovian.ai/suryansh-may/01-tensor-operations'"
      ]
     },
     "execution_count": 45,
     "metadata": {
      "tags": []
     },
     "output_type": "execute_result"
    }
   ],
   "source": [
    "jovian.commit(project='01-tensor-operations')"
   ]
  },
  {
   "cell_type": "markdown",
   "metadata": {
    "id": "bPuFkY8k9lFm"
   },
   "source": [
    "## Function 4 - torch.gcd()\n",
    "\n",
    "Computes the element-wise greatest common divisor (GCD) of input and other.\n",
    "\n",
    "Both input and other must have integer types."
   ]
  },
  {
   "cell_type": "code",
   "execution_count": 46,
   "metadata": {
    "colab": {
     "base_uri": "https://localhost:8080/"
    },
    "executionInfo": {
     "elapsed": 1308,
     "status": "ok",
     "timestamp": 1606720676496,
     "user": {
      "displayName": "Suryansh Shrivastava",
      "photoUrl": "https://lh3.googleusercontent.com/a-/AOh14Gg3hq9GsChK0zLG_i2fzeIRkXMOdROLtGxAhmPBow=s64",
      "userId": "00272612064480380787"
     },
     "user_tz": -330
    },
    "id": "8ejkGTUw9lFm",
    "outputId": "5547ca21-92e9-4258-c398-0740a1cefeb1"
   },
   "outputs": [
    {
     "data": {
      "text/plain": [
       "tensor([1, 2, 5])"
      ]
     },
     "execution_count": 46,
     "metadata": {
      "tags": []
     },
     "output_type": "execute_result"
    }
   ],
   "source": [
    "# Example 1 - working\n",
    "a = torch.tensor([5, 10, 15])\n",
    "b = torch.tensor([3, 4, 5])\n",
    "torch.gcd(a, b)"
   ]
  },
  {
   "cell_type": "markdown",
   "metadata": {
    "id": "TFpBXzt99lFm"
   },
   "source": [
    "Return a tensor containing GCD of the input tensor passed based on index "
   ]
  },
  {
   "cell_type": "code",
   "execution_count": 48,
   "metadata": {
    "colab": {
     "base_uri": "https://localhost:8080/"
    },
    "executionInfo": {
     "elapsed": 1098,
     "status": "ok",
     "timestamp": 1606720761766,
     "user": {
      "displayName": "Suryansh Shrivastava",
      "photoUrl": "https://lh3.googleusercontent.com/a-/AOh14Gg3hq9GsChK0zLG_i2fzeIRkXMOdROLtGxAhmPBow=s64",
      "userId": "00272612064480380787"
     },
     "user_tz": -330
    },
    "id": "140hLWgz9lFm",
    "outputId": "7b605003-1ea5-48a5-fe2e-e64d95f43a24"
   },
   "outputs": [
    {
     "data": {
      "text/plain": [
       "tensor([1, 1, 3])"
      ]
     },
     "execution_count": 48,
     "metadata": {
      "tags": []
     },
     "output_type": "execute_result"
    }
   ],
   "source": [
    "# Example 2 - working\n",
    "c = torch.tensor([3])\n",
    "torch.gcd(a, c)"
   ]
  },
  {
   "cell_type": "markdown",
   "metadata": {
    "id": "eDYHFPI39lFm"
   },
   "source": [
    "Tensor gets broadcasted to return GCD of each index "
   ]
  },
  {
   "cell_type": "code",
   "execution_count": 49,
   "metadata": {
    "colab": {
     "base_uri": "https://localhost:8080/",
     "height": 195
    },
    "executionInfo": {
     "elapsed": 1145,
     "status": "error",
     "timestamp": 1606720816318,
     "user": {
      "displayName": "Suryansh Shrivastava",
      "photoUrl": "https://lh3.googleusercontent.com/a-/AOh14Gg3hq9GsChK0zLG_i2fzeIRkXMOdROLtGxAhmPBow=s64",
      "userId": "00272612064480380787"
     },
     "user_tz": -330
    },
    "id": "HjmZEif79lFm",
    "outputId": "474ef43f-2687-4a97-d51e-2c02d1ff1be0"
   },
   "outputs": [
    {
     "ename": "RuntimeError",
     "evalue": "ignored",
     "output_type": "error",
     "traceback": [
      "\u001b[0;31m---------------------------------------------------------------------------\u001b[0m",
      "\u001b[0;31mRuntimeError\u001b[0m                              Traceback (most recent call last)",
      "\u001b[0;32m<ipython-input-49-3de55d4874ba>\u001b[0m in \u001b[0;36m<module>\u001b[0;34m()\u001b[0m\n\u001b[1;32m      1\u001b[0m \u001b[0;31m# Example 3 - breaking (to illustrate when it breaks)\u001b[0m\u001b[0;34m\u001b[0m\u001b[0;34m\u001b[0m\u001b[0;34m\u001b[0m\u001b[0m\n\u001b[1;32m      2\u001b[0m \u001b[0mc\u001b[0m \u001b[0;34m=\u001b[0m \u001b[0mtorch\u001b[0m\u001b[0;34m.\u001b[0m\u001b[0mtensor\u001b[0m\u001b[0;34m(\u001b[0m\u001b[0;34m[\u001b[0m\u001b[0;36m3\u001b[0m\u001b[0;34m,\u001b[0m\u001b[0;36m4\u001b[0m\u001b[0;34m]\u001b[0m\u001b[0;34m)\u001b[0m\u001b[0;34m\u001b[0m\u001b[0;34m\u001b[0m\u001b[0m\n\u001b[0;32m----> 3\u001b[0;31m \u001b[0mtorch\u001b[0m\u001b[0;34m.\u001b[0m\u001b[0mgcd\u001b[0m\u001b[0;34m(\u001b[0m\u001b[0ma\u001b[0m\u001b[0;34m,\u001b[0m \u001b[0mc\u001b[0m\u001b[0;34m)\u001b[0m\u001b[0;34m\u001b[0m\u001b[0;34m\u001b[0m\u001b[0m\n\u001b[0m",
      "\u001b[0;31mRuntimeError\u001b[0m: The size of tensor a (3) must match the size of tensor b (2) at non-singleton dimension 0"
     ]
    }
   ],
   "source": [
    "# Example 3 - breaking (to illustrate when it breaks)\n",
    "c = torch.tensor([3,4])\n",
    "torch.gcd(a, c)"
   ]
  },
  {
   "cell_type": "markdown",
   "metadata": {
    "id": "4O1GmB3t9lFm"
   },
   "source": [
    "Cannot be Broadcasted together (mismatch)"
   ]
  },
  {
   "cell_type": "markdown",
   "metadata": {
    "id": "Mj0M73GL9lFm"
   },
   "source": [
    "Torch.gcd can help in finding GCD, LCM , Multiplication of elements and is very useful in mathematical operations"
   ]
  },
  {
   "cell_type": "code",
   "execution_count": 50,
   "metadata": {
    "colab": {
     "base_uri": "https://localhost:8080/",
     "height": 102
    },
    "executionInfo": {
     "elapsed": 5883,
     "status": "ok",
     "timestamp": 1606720963153,
     "user": {
      "displayName": "Suryansh Shrivastava",
      "photoUrl": "https://lh3.googleusercontent.com/a-/AOh14Gg3hq9GsChK0zLG_i2fzeIRkXMOdROLtGxAhmPBow=s64",
      "userId": "00272612064480380787"
     },
     "user_tz": -330
    },
    "id": "Wwmi3uQN9lFm",
    "outputId": "1c1a9dcd-683d-4b8a-a6f2-1c9a810aa863"
   },
   "outputs": [
    {
     "name": "stdout",
     "output_type": "stream",
     "text": [
      "[jovian] Detected Colab notebook...\u001b[0m\n",
      "[jovian] Uploading colab notebook to Jovian...\u001b[0m\n",
      "[jovian] Capturing environment..\u001b[0m\n",
      "[jovian] Committed successfully! https://jovian.ai/suryansh-may/01-tensor-operations\u001b[0m\n"
     ]
    },
    {
     "data": {
      "application/vnd.google.colaboratory.intrinsic+json": {
       "type": "string"
      },
      "text/plain": [
       "'https://jovian.ai/suryansh-may/01-tensor-operations'"
      ]
     },
     "execution_count": 50,
     "metadata": {
      "tags": []
     },
     "output_type": "execute_result"
    }
   ],
   "source": [
    "jovian.commit(project='01-tensor-operations')"
   ]
  },
  {
   "cell_type": "markdown",
   "metadata": {
    "id": "wDhK2PsE9lFm"
   },
   "source": [
    "## Function 5 - torch.sign()\n",
    "\n",
    "Returns a new tensor with the signs of the elements of input"
   ]
  },
  {
   "cell_type": "code",
   "execution_count": 52,
   "metadata": {
    "colab": {
     "base_uri": "https://localhost:8080/"
    },
    "executionInfo": {
     "elapsed": 1285,
     "status": "ok",
     "timestamp": 1606721090893,
     "user": {
      "displayName": "Suryansh Shrivastava",
      "photoUrl": "https://lh3.googleusercontent.com/a-/AOh14Gg3hq9GsChK0zLG_i2fzeIRkXMOdROLtGxAhmPBow=s64",
      "userId": "00272612064480380787"
     },
     "user_tz": -330
    },
    "id": "W0kiXZCX9lFm",
    "outputId": "183b8a30-6699-4b79-8ca6-90e5c8b58fd1"
   },
   "outputs": [
    {
     "data": {
      "text/plain": [
       "tensor([ 1., -1.,  0.,  1.])"
      ]
     },
     "execution_count": 52,
     "metadata": {
      "tags": []
     },
     "output_type": "execute_result"
    }
   ],
   "source": [
    "# Example 1 - working\n",
    "a = torch.tensor([0.7, -1.2, 0., 2.3])\n",
    "torch.sign(a)"
   ]
  },
  {
   "cell_type": "markdown",
   "metadata": {
    "id": "tjb7KGFb9lFm"
   },
   "source": [
    "1 indicates positive value at that index , -1 negative and 0 tells that the element at that index is 0"
   ]
  },
  {
   "cell_type": "code",
   "execution_count": 53,
   "metadata": {
    "colab": {
     "base_uri": "https://localhost:8080/"
    },
    "executionInfo": {
     "elapsed": 1082,
     "status": "ok",
     "timestamp": 1606721159218,
     "user": {
      "displayName": "Suryansh Shrivastava",
      "photoUrl": "https://lh3.googleusercontent.com/a-/AOh14Gg3hq9GsChK0zLG_i2fzeIRkXMOdROLtGxAhmPBow=s64",
      "userId": "00272612064480380787"
     },
     "user_tz": -330
    },
    "id": "iq7_IN-q9lFm",
    "outputId": "19040afa-7714-459c-de41-7dd397033f2a"
   },
   "outputs": [
    {
     "data": {
      "text/plain": [
       "tensor([ 1., -1.,  0.,  1.])"
      ]
     },
     "execution_count": 53,
     "metadata": {
      "tags": []
     },
     "output_type": "execute_result"
    }
   ],
   "source": [
    "# Example 2 - working\n",
    "a = torch.tensor([1.7, -3.2, 0., 2.3])\n",
    "torch.sign(a)"
   ]
  },
  {
   "cell_type": "markdown",
   "metadata": {
    "id": "WdVMqlQp9lFm"
   },
   "source": [
    "Similarly here as well"
   ]
  },
  {
   "cell_type": "code",
   "execution_count": 57,
   "metadata": {
    "colab": {
     "base_uri": "https://localhost:8080/",
     "height": 195
    },
    "executionInfo": {
     "elapsed": 1163,
     "status": "error",
     "timestamp": 1606721322054,
     "user": {
      "displayName": "Suryansh Shrivastava",
      "photoUrl": "https://lh3.googleusercontent.com/a-/AOh14Gg3hq9GsChK0zLG_i2fzeIRkXMOdROLtGxAhmPBow=s64",
      "userId": "00272612064480380787"
     },
     "user_tz": -330
    },
    "id": "WvxaH3Ee9lFm",
    "outputId": "031b1b56-53d8-4f14-8b9a-0ef57311cf6f"
   },
   "outputs": [
    {
     "ename": "ValueError",
     "evalue": "ignored",
     "output_type": "error",
     "traceback": [
      "\u001b[0;31m---------------------------------------------------------------------------\u001b[0m",
      "\u001b[0;31mValueError\u001b[0m                                Traceback (most recent call last)",
      "\u001b[0;32m<ipython-input-57-1a65c4519256>\u001b[0m in \u001b[0;36m<module>\u001b[0;34m()\u001b[0m\n\u001b[1;32m      1\u001b[0m \u001b[0;31m# Example 3 - breaking (to illustrate when it breaks)\u001b[0m\u001b[0;34m\u001b[0m\u001b[0;34m\u001b[0m\u001b[0;34m\u001b[0m\u001b[0m\n\u001b[0;32m----> 2\u001b[0;31m \u001b[0ma\u001b[0m \u001b[0;34m=\u001b[0m \u001b[0mtorch\u001b[0m\u001b[0;34m.\u001b[0m\u001b[0mtensor\u001b[0m\u001b[0;34m(\u001b[0m\u001b[0;34m[\u001b[0m\u001b[0;34m[\u001b[0m\u001b[0;36m0.7\u001b[0m\u001b[0;34m,\u001b[0m \u001b[0;34m-\u001b[0m\u001b[0;36m1.2\u001b[0m \u001b[0;34m,\u001b[0m \u001b[0;36m5.\u001b[0m\u001b[0;34m]\u001b[0m\u001b[0;34m,\u001b[0m \u001b[0;34m[\u001b[0m\u001b[0;36m0.\u001b[0m\u001b[0;34m,\u001b[0m \u001b[0;36m2.3\u001b[0m\u001b[0;34m]\u001b[0m\u001b[0;34m,\u001b[0m\u001b[0;34m[\u001b[0m\u001b[0;36m3\u001b[0m\u001b[0;34m,\u001b[0m\u001b[0;36m1\u001b[0m\u001b[0;34m]\u001b[0m\u001b[0;34m]\u001b[0m\u001b[0;34m)\u001b[0m\u001b[0;34m\u001b[0m\u001b[0;34m\u001b[0m\u001b[0m\n\u001b[0m\u001b[1;32m      3\u001b[0m \u001b[0mtorch\u001b[0m\u001b[0;34m.\u001b[0m\u001b[0msign\u001b[0m\u001b[0;34m(\u001b[0m\u001b[0ma\u001b[0m\u001b[0;34m)\u001b[0m\u001b[0;34m\u001b[0m\u001b[0;34m\u001b[0m\u001b[0m\n",
      "\u001b[0;31mValueError\u001b[0m: expected sequence of length 3 at dim 1 (got 2)"
     ]
    }
   ],
   "source": [
    "# Example 3 - breaking (to illustrate when it breaks)\n",
    "a = torch.tensor([[0.7, -1.2 , 5.], [0., 2.3],[3,1]])\n",
    "torch.sign(a)"
   ]
  },
  {
   "cell_type": "markdown",
   "metadata": {
    "id": "NTPqh6j49lFm"
   },
   "source": [
    "Lenght should be same"
   ]
  },
  {
   "cell_type": "markdown",
   "metadata": {
    "id": "qXpjSTAs9lFm"
   },
   "source": [
    "This function tells which index is postive and negative can help in debugging if lot of imput is there "
   ]
  },
  {
   "cell_type": "code",
   "execution_count": 58,
   "metadata": {
    "colab": {
     "base_uri": "https://localhost:8080/",
     "height": 102
    },
    "executionInfo": {
     "elapsed": 4065,
     "status": "ok",
     "timestamp": 1606721373558,
     "user": {
      "displayName": "Suryansh Shrivastava",
      "photoUrl": "https://lh3.googleusercontent.com/a-/AOh14Gg3hq9GsChK0zLG_i2fzeIRkXMOdROLtGxAhmPBow=s64",
      "userId": "00272612064480380787"
     },
     "user_tz": -330
    },
    "id": "JcPqbpnz9lFm",
    "outputId": "700f16ee-954b-4972-cdda-bd327a24abb7"
   },
   "outputs": [
    {
     "name": "stdout",
     "output_type": "stream",
     "text": [
      "[jovian] Detected Colab notebook...\u001b[0m\n",
      "[jovian] Uploading colab notebook to Jovian...\u001b[0m\n",
      "[jovian] Capturing environment..\u001b[0m\n",
      "[jovian] Committed successfully! https://jovian.ai/suryansh-may/01-tensor-operations\u001b[0m\n"
     ]
    },
    {
     "data": {
      "application/vnd.google.colaboratory.intrinsic+json": {
       "type": "string"
      },
      "text/plain": [
       "'https://jovian.ai/suryansh-may/01-tensor-operations'"
      ]
     },
     "execution_count": 58,
     "metadata": {
      "tags": []
     },
     "output_type": "execute_result"
    }
   ],
   "source": [
    "jovian.commit(project='01-tensor-operations')"
   ]
  },
  {
   "cell_type": "markdown",
   "metadata": {
    "id": "E9Tt4rBw9lFm"
   },
   "source": [
    "## Conclusion\n",
    "\n",
    "These were just some of the functions of pytorch , these functions are computed with GPU which helps them to be faster than the numpy operations of numpy module"
   ]
  },
  {
   "cell_type": "markdown",
   "metadata": {
    "id": "22RsjwcG9lFm"
   },
   "source": [
    "## Reference Links\n",
    "Provide links to your references and other interesting articles about tensors\n",
    "* Official documentation for tensor operations: https://pytorch.org/docs/stable/torch.html\n",
    "* Pytorch Github - https://github.com/pytorch\n",
    "* Pytorch Tutorials - https://pytorch.org/tutorials/"
   ]
  },
  {
   "cell_type": "code",
   "execution_count": 60,
   "metadata": {
    "colab": {
     "base_uri": "https://localhost:8080/",
     "height": 102
    },
    "executionInfo": {
     "elapsed": 4466,
     "status": "ok",
     "timestamp": 1606721620140,
     "user": {
      "displayName": "Suryansh Shrivastava",
      "photoUrl": "https://lh3.googleusercontent.com/a-/AOh14Gg3hq9GsChK0zLG_i2fzeIRkXMOdROLtGxAhmPBow=s64",
      "userId": "00272612064480380787"
     },
     "user_tz": -330
    },
    "id": "acwH6C349lFm",
    "outputId": "f9f18f61-be3a-455f-aa3c-d23dfe1bbe96"
   },
   "outputs": [
    {
     "name": "stdout",
     "output_type": "stream",
     "text": [
      "[jovian] Detected Colab notebook...\u001b[0m\n",
      "[jovian] Uploading colab notebook to Jovian...\u001b[0m\n",
      "[jovian] Capturing environment..\u001b[0m\n",
      "[jovian] Committed successfully! https://jovian.ai/suryansh-may/01-tensor-operations\u001b[0m\n"
     ]
    },
    {
     "data": {
      "application/vnd.google.colaboratory.intrinsic+json": {
       "type": "string"
      },
      "text/plain": [
       "'https://jovian.ai/suryansh-may/01-tensor-operations'"
      ]
     },
     "execution_count": 60,
     "metadata": {
      "tags": []
     },
     "output_type": "execute_result"
    }
   ],
   "source": [
    "jovian.commit(project='01-tensor-operations')"
   ]
  },
  {
   "cell_type": "code",
   "execution_count": null,
   "metadata": {
    "id": "iFabN41g9lFm"
   },
   "outputs": [],
   "source": []
  }
 ],
 "metadata": {
  "colab": {
   "collapsed_sections": [],
   "name": "01-tensor-operations.ipynb",
   "provenance": []
  },
  "kernelspec": {
   "display_name": "Python 3",
   "language": "python",
   "name": "python3"
  },
  "language_info": {
   "codemirror_mode": {
    "name": "ipython",
    "version": 3
   },
   "file_extension": ".py",
   "mimetype": "text/x-python",
   "name": "python",
   "nbconvert_exporter": "python",
   "pygments_lexer": "ipython3",
   "version": "3.8.5"
  }
 },
 "nbformat": 4,
 "nbformat_minor": 0
}