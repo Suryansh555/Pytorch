{
  "nbformat": 4,
  "nbformat_minor": 0,
  "metadata": {
    "kernelspec": {
      "display_name": "Python 3",
      "language": "python",
      "name": "python3"
    },
    "language_info": {
      "codemirror_mode": {
        "name": "ipython",
        "version": 3
      },
      "file_extension": ".py",
      "mimetype": "text/x-python",
      "name": "python",
      "nbconvert_exporter": "python",
      "pygments_lexer": "ipython3",
      "version": "3.6.4"
    },
    "colab": {
      "name": "MNIST Classification.ipynb",
      "provenance": [],
      "include_colab_link": true
    }
  },
  "cells": [
    {
      "cell_type": "markdown",
      "metadata": {
        "id": "view-in-github",
        "colab_type": "text"
      },
      "source": [
        "<a href=\"https://colab.research.google.com/github/Suryansh555/Pytorch/blob/main/MNIST_Classification.ipynb\" target=\"_parent\"><img src=\"https://colab.research.google.com/assets/colab-badge.svg\" alt=\"Open In Colab\"/></a>"
      ]
    },
    {
      "cell_type": "code",
      "metadata": {
        "id": "lX19UOT-0Nld"
      },
      "source": [
        "# Jovian Commit Essentials\n",
        "# Please retain and execute this cell without modifying the contents for `jovian.commit` to work\n",
        "!pip install jovian --upgrade -q\n",
        "import jovian\n",
        "jovian.utils.colab.set_colab_file_id('1jFmGEBtgQJqQ5fOaxNVW5jZcG8C1KXE2')"
      ],
      "execution_count": 21,
      "outputs": []
    },
    {
      "cell_type": "markdown",
      "metadata": {
        "_cell_guid": "b1076dfc-b9ad-4769-8c92-a6c4dae69d19",
        "_uuid": "8f2839f25d086af736a60e9eeb907d3b93b6e0e5",
        "id": "D3SzbJeV0Nle"
      },
      "source": [
        "# Image Classification with Logistic Regression (Minimal)"
      ]
    },
    {
      "cell_type": "code",
      "metadata": {
        "_cell_guid": "79c7e3d0-c299-4dcb-8224-4455121ee9b0",
        "_uuid": "d629ff2d2480ee46fbb7e2d37f6b5fab8052498a",
        "id": "uISCUtDL0Nle"
      },
      "source": [
        "# Uncomment and run the commands below if imports fail\n",
        "# !conda install numpy pytorch torchvision cpuonly -c pytorch -y\n",
        "# !pip install matplotlib --upgrade --quiet\n",
        "!pip install jovian --upgrade --quiet"
      ],
      "execution_count": 22,
      "outputs": []
    },
    {
      "cell_type": "code",
      "metadata": {
        "id": "g9_owTWb0Nlg"
      },
      "source": [
        "# Imports\n",
        "import torch\n",
        "import jovian\n",
        "import torchvision\n",
        "import torch.nn as nn\n",
        "import matplotlib.pyplot as plt\n",
        "import torch.nn.functional as F\n",
        "import torchvision.transforms as transforms\n",
        "from torchvision.datasets import MNIST\n",
        "from torch.utils.data import random_split\n",
        "from torch.utils.data import DataLoader"
      ],
      "execution_count": 23,
      "outputs": []
    },
    {
      "cell_type": "code",
      "metadata": {
        "id": "AH2Ph8d60Nlg"
      },
      "source": [
        "# Hyperparmeters\n",
        "batch_size = 128\n",
        "learning_rate = 0.001\n",
        "\n",
        "# Other constants\n",
        "input_size = 28*28\n",
        "num_classes = 10"
      ],
      "execution_count": 24,
      "outputs": []
    },
    {
      "cell_type": "code",
      "metadata": {
        "colab": {
          "base_uri": "https://localhost:8080/"
        },
        "id": "8Ts8Fpes0Nlg",
        "outputId": "4587599c-888f-4984-fe33-1d3632139248"
      },
      "source": [
        "jovian.reset()\n",
        "jovian.log_hyperparams(batch_size=batch_size, learning_rate=learning_rate)"
      ],
      "execution_count": 25,
      "outputs": [
        {
          "output_type": "stream",
          "text": [
            "[jovian] Hyperparams logged.\u001b[0m\n"
          ],
          "name": "stdout"
        }
      ]
    },
    {
      "cell_type": "markdown",
      "metadata": {
        "id": "kajf2LNS0Nlg"
      },
      "source": [
        "## Dataset & Data loaders"
      ]
    },
    {
      "cell_type": "code",
      "metadata": {
        "id": "jbmwXkoa0Nlg"
      },
      "source": [
        "# Download dataset\n",
        "dataset = MNIST(root='data/', train=True, transform=transforms.ToTensor(), download=True)\n",
        "\n",
        "# Training validation & test dataset\n",
        "train_ds, val_ds = random_split(dataset, [50000, 10000])\n",
        "test_ds = MNIST(root='data/', train=False, transform=transforms.ToTensor())\n",
        "\n",
        "# Dataloaders\n",
        "train_loader = DataLoader(train_ds, batch_size, shuffle=True)\n",
        "val_loader = DataLoader(val_ds, batch_size*2)\n",
        "test_loader = DataLoader(test_ds, batch_size*2)"
      ],
      "execution_count": 26,
      "outputs": []
    },
    {
      "cell_type": "code",
      "metadata": {
        "colab": {
          "base_uri": "https://localhost:8080/",
          "height": 282
        },
        "id": "qYEZNKA_0Nlg",
        "outputId": "aa864e91-54ea-4e5b-a7e7-fd8899f55c31"
      },
      "source": [
        "image, label = train_ds[0]\n",
        "plt.imshow(image[0], cmap='gray')\n",
        "print('Label:', label)"
      ],
      "execution_count": 27,
      "outputs": [
        {
          "output_type": "stream",
          "text": [
            "Label: 9\n"
          ],
          "name": "stdout"
        },
        {
          "output_type": "display_data",
          "data": {
            "image/png": "[encoded data removed]",
            "text/plain": [
              "<Figure size 432x288 with 1 Axes>"
            ]
          },
          "metadata": {
            "tags": [],
            "needs_background": "light"
          }
        }
      ]
    },
    {
      "cell_type": "markdown",
      "metadata": {
        "id": "LX4pTAc30Nlg"
      },
      "source": [
        "## Model"
      ]
    },
    {
      "cell_type": "code",
      "metadata": {
        "id": "g5VQd6CB0Nlg"
      },
      "source": [
        "class MnistModel(nn.Module):\n",
        "    def __init__(self):\n",
        "        super().__init__()\n",
        "        self.linear = nn.Linear(input_size, num_classes)\n",
        "        \n",
        "    def forward(self, xb):\n",
        "        xb = xb.reshape(-1, 784)\n",
        "        out = self.linear(xb)\n",
        "        return out\n",
        "    \n",
        "    def training_step(self, batch):\n",
        "        images, labels = batch \n",
        "        out = self(images)                  # Generate predictions\n",
        "        loss = F.cross_entropy(out, labels) # Calculate loss\n",
        "        return loss\n",
        "    \n",
        "    def validation_step(self, batch):\n",
        "        images, labels = batch \n",
        "        out = self(images)                    # Generate predictions\n",
        "        loss = F.cross_entropy(out, labels)   # Calculate loss\n",
        "        acc = accuracy(out, labels)           # Calculate accuracy\n",
        "        return {'val_loss': loss.detach(), 'val_acc': acc.detach()}\n",
        "        \n",
        "    def validation_epoch_end(self, outputs):\n",
        "        batch_losses = [x['val_loss'] for x in outputs]\n",
        "        epoch_loss = torch.stack(batch_losses).mean()   # Combine losses\n",
        "        batch_accs = [x['val_acc'] for x in outputs]\n",
        "        epoch_acc = torch.stack(batch_accs).mean()      # Combine accuracies\n",
        "        return {'val_loss': epoch_loss.item(), 'val_acc': epoch_acc.item()}\n",
        "    \n",
        "    def epoch_end(self, epoch, result):\n",
        "        print(\"Epoch [{}], val_loss: {:.4f}, val_acc: {:.4f}\".format(epoch, result['val_loss'], result['val_acc']))\n",
        "    \n",
        "model = MnistModel()"
      ],
      "execution_count": 28,
      "outputs": []
    },
    {
      "cell_type": "markdown",
      "metadata": {
        "id": "9YoVWCG90Nlg"
      },
      "source": [
        "## Training"
      ]
    },
    {
      "cell_type": "code",
      "metadata": {
        "id": "-NcqQ0vH0Nlg"
      },
      "source": [
        "def accuracy(outputs, labels):\n",
        "    _, preds = torch.max(outputs, dim=1)\n",
        "    return torch.tensor(torch.sum(preds == labels).item() / len(preds))"
      ],
      "execution_count": 29,
      "outputs": []
    },
    {
      "cell_type": "code",
      "metadata": {
        "id": "mblLNdug0Nlg"
      },
      "source": [
        "def evaluate(model, val_loader):\n",
        "    outputs = [model.validation_step(batch) for batch in val_loader]\n",
        "    return model.validation_epoch_end(outputs)\n",
        "\n",
        "def fit(epochs, lr, model, train_loader, val_loader, opt_func=torch.optim.SGD):\n",
        "    history = []\n",
        "    optimizer = opt_func(model.parameters(), lr)\n",
        "    for epoch in range(epochs):\n",
        "        # Training Phase \n",
        "        for batch in train_loader:\n",
        "            loss = model.training_step(batch)\n",
        "            loss.backward()\n",
        "            optimizer.step()\n",
        "            optimizer.zero_grad()\n",
        "        # Validation phase\n",
        "        result = evaluate(model, val_loader)\n",
        "        model.epoch_end(epoch, result)\n",
        "        history.append(result)\n",
        "    return history"
      ],
      "execution_count": 30,
      "outputs": []
    },
    {
      "cell_type": "code",
      "metadata": {
        "colab": {
          "base_uri": "https://localhost:8080/"
        },
        "id": "u298tuDg0Nlg",
        "outputId": "7a28aff4-39aa-4c81-a7af-4a3d3fd0960d"
      },
      "source": [
        "evaluate(model, val_loader)"
      ],
      "execution_count": 31,
      "outputs": [
        {
          "output_type": "execute_result",
          "data": {
            "text/plain": [
              "{'val_acc': 0.12558594346046448, 'val_loss': 2.299773931503296}"
            ]
          },
          "metadata": {
            "tags": []
          },
          "execution_count": 31
        }
      ]
    },
    {
      "cell_type": "code",
      "metadata": {
        "colab": {
          "base_uri": "https://localhost:8080/"
        },
        "id": "j-PQZJrs0Nlg",
        "outputId": "2ab7aefd-2493-47e8-e0c7-a5404a012b08"
      },
      "source": [
        "history = fit(100, 0.01, model, train_loader, val_loader)"
      ],
      "execution_count": 71,
      "outputs": [
        {
          "output_type": "stream",
          "text": [
            "Epoch [0], val_loss: 0.3326, val_acc: 0.9037\n",
            "Epoch [1], val_loss: 0.3311, val_acc: 0.9035\n",
            "Epoch [2], val_loss: 0.3296, val_acc: 0.9035\n",
            "Epoch [3], val_loss: 0.3279, val_acc: 0.9043\n",
            "Epoch [4], val_loss: 0.3266, val_acc: 0.9041\n",
            "Epoch [5], val_loss: 0.3252, val_acc: 0.9045\n",
            "Epoch [6], val_loss: 0.3239, val_acc: 0.9071\n",
            "Epoch [7], val_loss: 0.3230, val_acc: 0.9064\n",
            "Epoch [8], val_loss: 0.3213, val_acc: 0.9074\n",
            "Epoch [9], val_loss: 0.3203, val_acc: 0.9079\n",
            "Epoch [10], val_loss: 0.3190, val_acc: 0.9082\n",
            "Epoch [11], val_loss: 0.3182, val_acc: 0.9086\n",
            "Epoch [12], val_loss: 0.3170, val_acc: 0.9086\n",
            "Epoch [13], val_loss: 0.3160, val_acc: 0.9089\n",
            "Epoch [14], val_loss: 0.3151, val_acc: 0.9096\n",
            "Epoch [15], val_loss: 0.3140, val_acc: 0.9092\n",
            "Epoch [16], val_loss: 0.3133, val_acc: 0.9094\n",
            "Epoch [17], val_loss: 0.3124, val_acc: 0.9100\n",
            "Epoch [18], val_loss: 0.3115, val_acc: 0.9101\n",
            "Epoch [19], val_loss: 0.3105, val_acc: 0.9109\n",
            "Epoch [20], val_loss: 0.3098, val_acc: 0.9109\n",
            "Epoch [21], val_loss: 0.3090, val_acc: 0.9112\n",
            "Epoch [22], val_loss: 0.3086, val_acc: 0.9112\n",
            "Epoch [23], val_loss: 0.3077, val_acc: 0.9111\n",
            "Epoch [24], val_loss: 0.3070, val_acc: 0.9117\n",
            "Epoch [25], val_loss: 0.3062, val_acc: 0.9121\n",
            "Epoch [26], val_loss: 0.3058, val_acc: 0.9120\n",
            "Epoch [27], val_loss: 0.3049, val_acc: 0.9123\n",
            "Epoch [28], val_loss: 0.3043, val_acc: 0.9122\n",
            "Epoch [29], val_loss: 0.3035, val_acc: 0.9126\n",
            "Epoch [30], val_loss: 0.3030, val_acc: 0.9129\n",
            "Epoch [31], val_loss: 0.3027, val_acc: 0.9130\n",
            "Epoch [32], val_loss: 0.3020, val_acc: 0.9128\n",
            "Epoch [33], val_loss: 0.3015, val_acc: 0.9136\n",
            "Epoch [34], val_loss: 0.3011, val_acc: 0.9132\n",
            "Epoch [35], val_loss: 0.3004, val_acc: 0.9135\n",
            "Epoch [36], val_loss: 0.2997, val_acc: 0.9142\n",
            "Epoch [37], val_loss: 0.2992, val_acc: 0.9140\n",
            "Epoch [38], val_loss: 0.2989, val_acc: 0.9138\n",
            "Epoch [39], val_loss: 0.2985, val_acc: 0.9143\n",
            "Epoch [40], val_loss: 0.2978, val_acc: 0.9147\n",
            "Epoch [41], val_loss: 0.2974, val_acc: 0.9146\n",
            "Epoch [42], val_loss: 0.2969, val_acc: 0.9146\n",
            "Epoch [43], val_loss: 0.2967, val_acc: 0.9150\n",
            "Epoch [44], val_loss: 0.2962, val_acc: 0.9149\n",
            "Epoch [45], val_loss: 0.2961, val_acc: 0.9147\n",
            "Epoch [46], val_loss: 0.2956, val_acc: 0.9153\n",
            "Epoch [47], val_loss: 0.2949, val_acc: 0.9152\n",
            "Epoch [48], val_loss: 0.2945, val_acc: 0.9149\n",
            "Epoch [49], val_loss: 0.2942, val_acc: 0.9152\n",
            "Epoch [50], val_loss: 0.2936, val_acc: 0.9157\n",
            "Epoch [51], val_loss: 0.2935, val_acc: 0.9153\n",
            "Epoch [52], val_loss: 0.2930, val_acc: 0.9161\n",
            "Epoch [53], val_loss: 0.2926, val_acc: 0.9161\n",
            "Epoch [54], val_loss: 0.2923, val_acc: 0.9165\n",
            "Epoch [55], val_loss: 0.2921, val_acc: 0.9157\n",
            "Epoch [56], val_loss: 0.2915, val_acc: 0.9164\n",
            "Epoch [57], val_loss: 0.2912, val_acc: 0.9166\n",
            "Epoch [58], val_loss: 0.2909, val_acc: 0.9165\n",
            "Epoch [59], val_loss: 0.2906, val_acc: 0.9166\n",
            "Epoch [60], val_loss: 0.2904, val_acc: 0.9167\n",
            "Epoch [61], val_loss: 0.2899, val_acc: 0.9167\n",
            "Epoch [62], val_loss: 0.2896, val_acc: 0.9162\n",
            "Epoch [63], val_loss: 0.2894, val_acc: 0.9164\n",
            "Epoch [64], val_loss: 0.2891, val_acc: 0.9169\n",
            "Epoch [65], val_loss: 0.2888, val_acc: 0.9164\n",
            "Epoch [66], val_loss: 0.2884, val_acc: 0.9169\n",
            "Epoch [67], val_loss: 0.2883, val_acc: 0.9171\n",
            "Epoch [68], val_loss: 0.2878, val_acc: 0.9168\n",
            "Epoch [69], val_loss: 0.2875, val_acc: 0.9171\n",
            "Epoch [70], val_loss: 0.2874, val_acc: 0.9169\n",
            "Epoch [71], val_loss: 0.2870, val_acc: 0.9171\n",
            "Epoch [72], val_loss: 0.2871, val_acc: 0.9172\n",
            "Epoch [73], val_loss: 0.2866, val_acc: 0.9170\n",
            "Epoch [74], val_loss: 0.2865, val_acc: 0.9173\n",
            "Epoch [75], val_loss: 0.2861, val_acc: 0.9169\n",
            "Epoch [76], val_loss: 0.2858, val_acc: 0.9174\n",
            "Epoch [77], val_loss: 0.2857, val_acc: 0.9175\n",
            "Epoch [78], val_loss: 0.2853, val_acc: 0.9172\n",
            "Epoch [79], val_loss: 0.2853, val_acc: 0.9177\n",
            "Epoch [80], val_loss: 0.2850, val_acc: 0.9174\n",
            "Epoch [81], val_loss: 0.2848, val_acc: 0.9172\n",
            "Epoch [82], val_loss: 0.2844, val_acc: 0.9175\n",
            "Epoch [83], val_loss: 0.2845, val_acc: 0.9175\n",
            "Epoch [84], val_loss: 0.2842, val_acc: 0.9174\n",
            "Epoch [85], val_loss: 0.2837, val_acc: 0.9178\n",
            "Epoch [86], val_loss: 0.2836, val_acc: 0.9176\n",
            "Epoch [87], val_loss: 0.2833, val_acc: 0.9180\n",
            "Epoch [88], val_loss: 0.2831, val_acc: 0.9181\n",
            "Epoch [89], val_loss: 0.2829, val_acc: 0.9181\n",
            "Epoch [90], val_loss: 0.2828, val_acc: 0.9177\n",
            "Epoch [91], val_loss: 0.2826, val_acc: 0.9178\n",
            "Epoch [92], val_loss: 0.2825, val_acc: 0.9178\n",
            "Epoch [93], val_loss: 0.2823, val_acc: 0.9173\n",
            "Epoch [94], val_loss: 0.2820, val_acc: 0.9181\n",
            "Epoch [95], val_loss: 0.2819, val_acc: 0.9176\n",
            "Epoch [96], val_loss: 0.2817, val_acc: 0.9182\n",
            "Epoch [97], val_loss: 0.2813, val_acc: 0.9186\n",
            "Epoch [98], val_loss: 0.2813, val_acc: 0.9187\n",
            "Epoch [99], val_loss: 0.2811, val_acc: 0.9180\n"
          ],
          "name": "stdout"
        }
      ]
    },
    {
      "cell_type": "code",
      "metadata": {
        "colab": {
          "base_uri": "https://localhost:8080/",
          "height": 295
        },
        "id": "raEywDx60Nlg",
        "outputId": "8f00cb44-57d1-49bb-bbbc-00125ce2b09a"
      },
      "source": [
        "accuracies = [r['val_acc'] for r in history]\n",
        "plt.plot(accuracies, '-x')\n",
        "plt.xlabel('epoch')\n",
        "plt.ylabel('accuracy')\n",
        "plt.title('Accuracy vs. No. of epochs');"
      ],
      "execution_count": 72,
      "outputs": [
        {
          "output_type": "display_data",
          "data": {
            "image/png": "[encoded data removed]",
            "text/plain": [
              "<Figure size 432x288 with 1 Axes>"
            ]
          },
          "metadata": {
            "tags": [],
            "needs_background": "light"
          }
        }
      ]
    },
    {
      "cell_type": "code",
      "metadata": {
        "colab": {
          "base_uri": "https://localhost:8080/"
        },
        "id": "p7zbCX470Nlg",
        "outputId": "843a1176-e146-430d-a7cc-962182c8c4fe"
      },
      "source": [
        "# Evaluate on test dataset\n",
        "result = evaluate(model, test_loader)\n",
        "result"
      ],
      "execution_count": 79,
      "outputs": [
        {
          "output_type": "execute_result",
          "data": {
            "text/plain": [
              "{'val_acc': 0.92236328125, 'val_loss': 0.277678906917572}"
            ]
          },
          "metadata": {
            "tags": []
          },
          "execution_count": 79
        }
      ]
    },
    {
      "cell_type": "code",
      "metadata": {
        "colab": {
          "base_uri": "https://localhost:8080/"
        },
        "id": "a3AyBrdr0Nlh",
        "outputId": "c1a4b20f-dd90-40d8-b3e7-546b9d4951f9"
      },
      "source": [
        "jovian.log_metrics(test_acc=result['val_acc'], test_loss=result['val_loss'])"
      ],
      "execution_count": 80,
      "outputs": [
        {
          "output_type": "stream",
          "text": [
            "[jovian] Metrics logged.\u001b[0m\n"
          ],
          "name": "stdout"
        }
      ]
    },
    {
      "cell_type": "markdown",
      "metadata": {
        "id": "rXQfKq3n0Nlh"
      },
      "source": [
        "## Prediction"
      ]
    },
    {
      "cell_type": "code",
      "metadata": {
        "id": "OpVBqJWr0Nlh"
      },
      "source": [
        "def predict_image(img, model):\n",
        "    xb = img.unsqueeze(0)\n",
        "    yb = model(xb)\n",
        "    _, preds  = torch.max(yb, dim=1)\n",
        "    return preds[0].item()"
      ],
      "execution_count": 82,
      "outputs": []
    },
    {
      "cell_type": "code",
      "metadata": {
        "colab": {
          "base_uri": "https://localhost:8080/",
          "height": 282
        },
        "id": "TDK-u04N0Nlh",
        "outputId": "2fbcb701-5a4e-4e83-f7a2-a407ef182b17"
      },
      "source": [
        "img, label = test_ds[919]\n",
        "plt.imshow(img[0], cmap='gray')\n",
        "print('Label:', label, ', Predicted:', predict_image(img, model))"
      ],
      "execution_count": 83,
      "outputs": [
        {
          "output_type": "stream",
          "text": [
            "Label: 2 , Predicted: 2\n"
          ],
          "name": "stdout"
        },
        {
          "output_type": "display_data",
          "data": {
            "image/png": "[encoded data removed]",
            "text/plain": [
              "<Figure size 432x288 with 1 Axes>"
            ]
          },
          "metadata": {
            "tags": [],
            "needs_background": "light"
          }
        }
      ]
    },
    {
      "cell_type": "markdown",
      "metadata": {
        "id": "knhsyE5N0Nlh"
      },
      "source": [
        "## Save and upload"
      ]
    },
    {
      "cell_type": "code",
      "metadata": {
        "id": "alvhzjtx0Nlh"
      },
      "source": [
        "torch.save(model.state_dict(), 'mnist-logistic.pth')"
      ],
      "execution_count": 84,
      "outputs": []
    },
    {
      "cell_type": "code",
      "metadata": {
        "colab": {
          "base_uri": "https://localhost:8080/",
          "height": 203
        },
        "id": "zroGTflL0Nlh",
        "outputId": "4e36e9ee-b979-4841-d095-06fd06c2d4b7"
      },
      "source": [
        "jovian.commit(project='mnist-logistic-minimal', environment=None, outputs=['mnist-logistic.pth'])\n",
        "jovian.commit(project='mnist-logistic-minimal', environment=None, outputs=['mnist-logistic.pth']) # Kaggle commit fails sometimes, so try again.."
      ],
      "execution_count": 85,
      "outputs": [
        {
          "output_type": "stream",
          "text": [
            "[jovian] Detected Colab notebook...\u001b[0m\n",
            "[jovian] Uploading colab notebook to Jovian...\u001b[0m\n",
            "[jovian] Uploading additional outputs...\u001b[0m\n",
            "[jovian] Attaching records (metrics, hyperparameters, dataset etc.)\u001b[0m\n",
            "[jovian] Committed successfully! https://jovian.ai/suryansh-may/mnist-logistic-minimal\u001b[0m\n",
            "[jovian] Detected Colab notebook...\u001b[0m\n",
            "[jovian] Uploading colab notebook to Jovian...\u001b[0m\n",
            "[jovian] Uploading additional outputs...\u001b[0m\n",
            "[jovian] Attaching records (metrics, hyperparameters, dataset etc.)\u001b[0m\n",
            "[jovian] Committed successfully! https://jovian.ai/suryansh-may/mnist-logistic-minimal\u001b[0m\n"
          ],
          "name": "stdout"
        },
        {
          "output_type": "execute_result",
          "data": {
            "application/vnd.google.colaboratory.intrinsic+json": {
              "type": "string"
            },
            "text/plain": [
              "'https://jovian.ai/suryansh-may/mnist-logistic-minimal'"
            ]
          },
          "metadata": {
            "tags": []
          },
          "execution_count": 85
        }
      ]
    },
    {
      "cell_type": "code",
      "metadata": {
        "id": "PTXiW3dX0Nlh"
      },
      "source": [
        ""
      ],
      "execution_count": 85,
      "outputs": []
    }
  ]
}